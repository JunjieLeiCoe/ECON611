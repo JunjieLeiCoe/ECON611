{
 "cells": [
  {
   "cell_type": "code",
   "execution_count": 1,
   "metadata": {},
   "outputs": [],
   "source": [
    "def print_input():\n",
    "    text = input(\"Type something: \")\n",
    "    for val in list(text.strip()):\n",
    "        try:\n",
    "            if val.isdigit() == True:\n",
    "                print (\"Input contains digit.\")\n",
    "                break\n",
    "            else:\n",
    "                pass\n",
    "        except:\n",
    "            pass\n",
    "    print (\"Input does NOT contain digit.\")"
   ]
  },
  {
   "cell_type": "code",
   "execution_count": 2,
   "metadata": {},
   "outputs": [
    {
     "name": "stdout",
     "output_type": "stream",
     "text": [
      "Type something: hi welcome to class 1\n",
      "Input contains digit.\n",
      "Input does NOT contain digit.\n"
     ]
    }
   ],
   "source": [
    "print_input()"
   ]
  },
  {
   "cell_type": "code",
   "execution_count": null,
   "metadata": {},
   "outputs": [],
   "source": []
  }
 ],
 "metadata": {
  "anaconda-cloud": {},
  "kernelspec": {
   "display_name": "Python 3",
   "language": "python",
   "name": "python3"
  },
  "language_info": {
   "codemirror_mode": {
    "name": "ipython",
    "version": 3
   },
   "file_extension": ".py",
   "mimetype": "text/x-python",
   "name": "python",
   "nbconvert_exporter": "python",
   "pygments_lexer": "ipython3",
   "version": "3.6.3"
  }
 },
 "nbformat": 4,
 "nbformat_minor": 1
}
