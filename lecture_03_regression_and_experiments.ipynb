{
  "nbformat": 4,
  "nbformat_minor": 0,
  "metadata": {
    "colab": {
      "name": "lecture-03-regression_and_experiments.ipynb",
      "provenance": [],
      "collapsed_sections": [],
      "include_colab_link": true
    },
    "kernelspec": {
      "name": "python3",
      "display_name": "Python 3"
    }
  },
  "cells": [
    {
      "cell_type": "markdown",
      "metadata": {
        "id": "view-in-github",
        "colab_type": "text"
      },
      "source": [
        "<a href=\"https://colab.research.google.com/github/JunjieLeiCoe/ECON611/blob/master/lecture_03_regression_and_experiments.ipynb\" target=\"_parent\"><img src=\"https://colab.research.google.com/assets/colab-badge.svg\" alt=\"Open In Colab\"/></a>"
      ]
    },
    {
      "cell_type": "markdown",
      "metadata": {
        "id": "pCMOPNd5eYqz",
        "colab_type": "text"
      },
      "source": [
        ""
      ]
    },
    {
      "cell_type": "code",
      "metadata": {
        "id": "C7XLxeh4B-Gy",
        "colab_type": "code",
        "colab": {}
      },
      "source": [
        "%matplotlib inline\n",
        "import pandas as pd\n",
        "import numpy as np\n",
        "import statsmodels.formula.api as sfa\n",
        "from statsmodels.iolib.summary2 import summary_col\n",
        "from progressbar import progressbar\n",
        "\n",
        "import matplotlib.pyplot as plt\n",
        "plt.rcParams.update({\n",
        "    \"lines.color\": \"white\",\n",
        "    \"patch.edgecolor\": \"white\",\n",
        "    \"text.color\": \"black\",\n",
        "    \"axes.facecolor\": \"white\",\n",
        "    \"axes.edgecolor\": \"lightgray\",\n",
        "    \"axes.labelcolor\": \"white\",\n",
        "    \"xtick.color\": \"white\",\n",
        "    \"ytick.color\": \"white\",\n",
        "    \"grid.color\": \"lightgray\",\n",
        "    \"figure.facecolor\": \"black\",\n",
        "    \"figure.edgecolor\": \"black\",\n",
        "    \"savefig.facecolor\": \"black\",\n",
        "    \"savefig.edgecolor\": \"black\"})"
      ],
      "execution_count": 0,
      "outputs": []
    },
    {
      "cell_type": "markdown",
      "metadata": {
        "id": "-WW4kAchdVfl",
        "colab_type": "text"
      },
      "source": [
        "# Regression (OLS) with statsmodels\n",
        "\n",
        "Statsmodels is the most mature and suitable package for estimating regressions. It has a \"formula\" interface similar to R and gives output similar to R (`lm`) or Stata `reg`. (Scikit-learn does not even give standard errors!)\n",
        "\n",
        "The example below shows us estimating a model of the form\n",
        "\n",
        "$$Y = \\alpha + \\beta_1 X_1 + \\beta_2 X_2 + \\epsilon$$\n",
        "\n",
        "where $\\epsilon \\sim \\text{Normal}(0, 1), X_1 \\sim \\text{Uniform(0,1)}, X_2 \\sim \\text{Uniform(0,1)}$, all independent.\n",
        "=\n"
      ]
    },
    {
      "cell_type": "code",
      "metadata": {
        "id": "z_ksx43Kd1FD",
        "colab_type": "code",
        "outputId": "b66b1e79-24f7-4710-a5eb-811d72e96d89",
        "colab": {
          "base_uri": "https://localhost:8080/",
          "height": 746
        }
      },
      "source": [
        "# Minimal example of using statsmodels for regression\n",
        "\n",
        "# Parameters of the data-generating process\n",
        "N = 5000\n",
        "alpha = 2 \n",
        "beta_1 = 3\n",
        "beta_2 = 0.1\n",
        "\n",
        "# Generate data following a regression structure\n",
        "X1 = np.random.uniform(size=N)\n",
        "X2 = np.random.uniform(size=N)\n",
        "Y = np.random.normal(loc=alpha + beta_1 * X1 + beta_2 * X2, size=N)\n",
        "\n",
        "df = pd.DataFrame({\n",
        "    'y': Y,\n",
        "    'x1': X1,\n",
        "    'x2': X2\n",
        "})\n",
        "\n",
        "# Fit the model\n",
        "# The `formula` parameter has the pattern: \n",
        "# outcome_variable ~ explanatory variables (aka regressors).\n",
        "r = sfa.ols(formula=\"y ~ x1 + x2\", data=df).fit()\n",
        "\n",
        "# Show results like Stata or R\n",
        "print(r.summary())\n",
        "\n",
        "\n",
        "# Access a dictionary of coefficient estimates\n",
        "print(r.params)\n",
        "\n",
        "# Access a dictionary of coefficient standard errors\n",
        "print(r.bse)\n",
        "\n",
        "# Access a dictionary of coefficient t-statistics (coefficient/standard error)\n",
        "print(r.tvalues)\n",
        "\n",
        "# Access a dictionary of coefficient p-values\n",
        "print(r.pvalues)\n",
        "\n",
        "\n"
      ],
      "execution_count": 0,
      "outputs": [
        {
          "output_type": "stream",
          "text": [
            "                            OLS Regression Results                            \n",
            "==============================================================================\n",
            "Dep. Variable:                      y   R-squared:                       0.420\n",
            "Model:                            OLS   Adj. R-squared:                  0.419\n",
            "Method:                 Least Squares   F-statistic:                     1807.\n",
            "Date:                Tue, 10 Sep 2019   Prob (F-statistic):               0.00\n",
            "Time:                        03:41:22   Log-Likelihood:                -7116.2\n",
            "No. Observations:                5000   AIC:                         1.424e+04\n",
            "Df Residuals:                    4997   BIC:                         1.426e+04\n",
            "Df Model:                           2                                         \n",
            "Covariance Type:            nonrobust                                         \n",
            "==============================================================================\n",
            "                 coef    std err          t      P>|t|      [0.025      0.975]\n",
            "------------------------------------------------------------------------------\n",
            "Intercept      2.0355      0.038     53.008      0.000       1.960       2.111\n",
            "x1             2.9822      0.050     60.119      0.000       2.885       3.079\n",
            "x2             0.0218      0.049      0.442      0.659      -0.075       0.119\n",
            "==============================================================================\n",
            "Omnibus:                        0.063   Durbin-Watson:                   1.976\n",
            "Prob(Omnibus):                  0.969   Jarque-Bera (JB):                0.040\n",
            "Skew:                          -0.001   Prob(JB):                        0.980\n",
            "Kurtosis:                       3.014   Cond. No.                         5.41\n",
            "==============================================================================\n",
            "\n",
            "Warnings:\n",
            "[1] Standard Errors assume that the covariance matrix of the errors is correctly specified.\n",
            "Intercept    2.035473\n",
            "x1           2.982226\n",
            "x2           0.021812\n",
            "dtype: float64\n",
            "Intercept    0.038399\n",
            "x1           0.049605\n",
            "x2           0.049401\n",
            "dtype: float64\n",
            "Intercept    53.008139\n",
            "x1           60.119463\n",
            "x2            0.441519\n",
            "dtype: float64\n",
            "Intercept    0.000000\n",
            "x1           0.000000\n",
            "x2           0.658856\n",
            "dtype: float64\n"
          ],
          "name": "stdout"
        }
      ]
    },
    {
      "cell_type": "code",
      "metadata": {
        "id": "QFoUdKoCQ3yi",
        "colab_type": "code",
        "outputId": "b491eed6-f9b8-437f-86bb-e835a913476c",
        "colab": {
          "base_uri": "https://localhost:8080/",
          "height": 469
        }
      },
      "source": [
        "print(sfa.ols(formula=\"y ~ x1\", data=df).fit().summary())"
      ],
      "execution_count": 0,
      "outputs": [
        {
          "output_type": "stream",
          "text": [
            "                            OLS Regression Results                            \n",
            "==============================================================================\n",
            "Dep. Variable:                      y   R-squared:                       0.420\n",
            "Model:                            OLS   Adj. R-squared:                  0.419\n",
            "Method:                 Least Squares   F-statistic:                     1807.\n",
            "Date:                Tue, 10 Sep 2019   Prob (F-statistic):               0.00\n",
            "Time:                        03:44:01   Log-Likelihood:                -7116.2\n",
            "No. Observations:                5000   AIC:                         1.424e+04\n",
            "Df Residuals:                    4997   BIC:                         1.426e+04\n",
            "Df Model:                           2                                         \n",
            "Covariance Type:            nonrobust                                         \n",
            "==============================================================================\n",
            "                 coef    std err          t      P>|t|      [0.025      0.975]\n",
            "------------------------------------------------------------------------------\n",
            "Intercept      2.0355      0.038     53.008      0.000       1.960       2.111\n",
            "x1             2.9822      0.050     60.119      0.000       2.885       3.079\n",
            "x2             0.0218      0.049      0.442      0.659      -0.075       0.119\n",
            "==============================================================================\n",
            "Omnibus:                        0.063   Durbin-Watson:                   1.976\n",
            "Prob(Omnibus):                  0.969   Jarque-Bera (JB):                0.040\n",
            "Skew:                          -0.001   Prob(JB):                        0.980\n",
            "Kurtosis:                       3.014   Cond. No.                         5.41\n",
            "==============================================================================\n",
            "\n",
            "Warnings:\n",
            "[1] Standard Errors assume that the covariance matrix of the errors is correctly specified.\n"
          ],
          "name": "stdout"
        }
      ]
    },
    {
      "cell_type": "markdown",
      "metadata": {
        "id": "GPIZzWpciHHt",
        "colab_type": "text"
      },
      "source": [
        "# More advanced statsmodels use\n",
        "\n",
        "The example below shows how we can use the `C()` operator in a formula to create dummy variables. This is the same as `C()` in R or `i.varname` in Stata. This technique is very common in economics!"
      ]
    },
    {
      "cell_type": "code",
      "metadata": {
        "id": "sC_QBRJ6hEKf",
        "colab_type": "code",
        "outputId": "97bdf2d5-5d05-407a-f70d-0a1f2fb70522",
        "colab": {
          "base_uri": "https://localhost:8080/",
          "height": 538
        }
      },
      "source": [
        "# Using \"dummy variables\"\n",
        "\n",
        "# Parameters of the data-generating process\n",
        "N = 1000\n",
        "alpha = 2 \n",
        "beta_1 = 3\n",
        "\n",
        "\n",
        "# Generate data following a regression structure\n",
        "# This DGP is a bit weird but there are no problems estimating it.\n",
        "# Each value of Z is its own coefficient.\n",
        "X1 = np.random.uniform(size=N)\n",
        "Z = np.random.poisson(size=N)\n",
        "Y = np.random.normal(loc=alpha + beta_1 * X1 + (Z ** 2), size=N)\n",
        "\n",
        "df = pd.DataFrame({\n",
        "    'y': Y,\n",
        "    'x1': X1,\n",
        "    'z': Z\n",
        "})\n",
        "\n",
        "# Fit the model\n",
        "# The `formula` parameter has the pattern: \n",
        "# outcome_variable ~ explanatory variables (aka regressors).\n",
        "# We can use C(variable) to turn categorical variables into dummy variables.\n",
        "# Poisson variables take on integer values. See in the output that we get\n",
        "# a coefficient for each distinct value of Z.\n",
        "r = sfa.ols(formula=\"y ~ x1 + C(Z)\", data=df).fit()\n",
        "\n",
        "# Show results like Stata or R\n",
        "print(r.summary())"
      ],
      "execution_count": 0,
      "outputs": [
        {
          "output_type": "stream",
          "text": [
            "                            OLS Regression Results                            \n",
            "==============================================================================\n",
            "Dep. Variable:                      y   R-squared:                       0.918\n",
            "Model:                            OLS   Adj. R-squared:                  0.917\n",
            "Method:                 Least Squares   F-statistic:                     1848.\n",
            "Date:                Mon, 09 Sep 2019   Prob (F-statistic):               0.00\n",
            "Time:                        03:26:35   Log-Likelihood:                -1404.9\n",
            "No. Observations:                1000   AIC:                             2824.\n",
            "Df Residuals:                     993   BIC:                             2858.\n",
            "Df Model:                           6                                         \n",
            "Covariance Type:            nonrobust                                         \n",
            "==============================================================================\n",
            "                 coef    std err          t      P>|t|      [0.025      0.975]\n",
            "------------------------------------------------------------------------------\n",
            "Intercept      1.9398      0.071     27.306      0.000       1.800       2.079\n",
            "C(Z)[T.1]      1.0306      0.074     14.010      0.000       0.886       1.175\n",
            "C(Z)[T.2]      4.1761      0.086     48.311      0.000       4.006       4.346\n",
            "C(Z)[T.3]      9.0385      0.141     64.054      0.000       8.762       9.315\n",
            "C(Z)[T.4]     15.6796      0.260     60.243      0.000      15.169      16.190\n",
            "C(Z)[T.5]     24.2698      0.574     42.270      0.000      23.143      25.397\n",
            "x1             2.9322      0.108     27.182      0.000       2.720       3.144\n",
            "==============================================================================\n",
            "Omnibus:                        0.681   Durbin-Watson:                   2.118\n",
            "Prob(Omnibus):                  0.711   Jarque-Bera (JB):                0.552\n",
            "Skew:                           0.009   Prob(JB):                        0.759\n",
            "Kurtosis:                       3.114   Cond. No.                         21.8\n",
            "==============================================================================\n",
            "\n",
            "Warnings:\n",
            "[1] Standard Errors assume that the covariance matrix of the errors is correctly specified.\n"
          ],
          "name": "stdout"
        }
      ]
    },
    {
      "cell_type": "markdown",
      "metadata": {
        "id": "LzOAJuDNR8KE",
        "colab_type": "text"
      },
      "source": [
        "# Estimating the ATE using OLS (ordinary least squares)\n",
        "\n",
        "This argument sketches out why we can use a linear regression to estimate the ATE.\n",
        "\n",
        "Suppose $Y^0$ and $Y^1$ are the potential outcome variables and $D$ is the treatment indicator. By definition the $ATE = E[Y^1] - E[Y^0]$.\n",
        "\n",
        "Suppose we use OLS to fit a bivariate regression: \n",
        "\n",
        "$$Y = \\beta_0 + \\beta_1 D + \\epsilon.$$\n",
        "\n",
        "It can be shown (by linear algebra) that the OLS estimator is \n",
        "\n",
        "$$\\mathbf{\\hat{\\beta}} = [\\tfrac{1}{N_0}\\displaystyle\\sum_{i:D_i=0}Y_i, \\tfrac{1}{N_1}\\displaystyle\\sum_{i:D_i=1}Y_i - \\tfrac{1}{N_0}\\displaystyle\\sum_{i:D_i=0}Y_i].$$ \n",
        "\n",
        "*Yes! Linear regression can be used as a roundabout but convenient way of calculating two averages at once!*\n",
        "\n",
        "This equation is an entirely mathematical property of regression which requires no statistical assumptions. It can be derived directly from OLS estimator's definition $\\mathbf{\\hat{\\beta}} = [\\mathbf{X'}\\mathbf{X}]^{-1}\\mathbf{X'Y}.$\n",
        "\n",
        "In a causal inference context, this equation says: $\\hat{\\beta_0}$ is the average of $Y$ in the control group, and $\\hat{\\beta^1}$ is the difference in averages between the treatment group and control group.\n",
        "\n",
        "Therefore, if the independence assumption holds, then \n",
        "\n",
        "$$E[\\hat{\\beta}] = [E[Y^0], ATE].$$ \n",
        "\n",
        "That is, under the independence assumption, the OLS estimator is an unbiased and consistent estimator of the control outcome and the average treatment effect.\n",
        "\n",
        "## Binary outcome case\n",
        "\n",
        "The above argument does not require any particular distribution for $(Y^1, Y^0)$. In particular, the argument holds when $(Y^1, Y^0)$ are binary 0/1 outcomes. In such a case the result translates to\n",
        "\n",
        "$$E[\\hat{\\beta}] = [P(Y^0 = 1), P(Y^1 = 1) - P(Y^0 = 1) ] =  [P(Y^0 = 1), ATE].$$ \n",
        "\n",
        "## Linear probability model\n",
        "\n",
        "The results above justify using the linear probability model (LPM) which is a linear regression where the outcome $Y$ is a binary 0/1 variable. This means we can use regression to accurately analyze experiment data, even if the outcome variable is 0/1 as in an A/B test on conversion rates.\n",
        "\n",
        "\n",
        "This result generalizes to cases where we have a *saturated model* which means that we can exhaustively enumerate all groups our data. Concretely, in our regression we would include variables (0/1 \"dummy variables\") to identify each group (with one group omitted as a baseline for comparison). In a simple random experiment with treatment and control groups, this is the variable $D$ in the regression. With more groups we need to include additional variables, for example, $D^0, D^1$ and all products of these variables:\n",
        "\n",
        "$$Y = \\beta_0 + \\beta_1 D^0 + \\beta_2 D^1 + \\beta_3 D^0 D^1 + \\epsilon.$$\n",
        "\n",
        "The LPM will consistently estimate all of $\\beta_0=P(Y=1|D^0=0,D^1=1),\\beta_1,\\beta_2,\\beta_3$. For example, \n",
        "\n",
        "$$\\beta_3 = P(Y=1|D^0=1,D^1=1) - P(Y=1|D^0=0,D^1=1)$$.\n",
        "\n",
        "In a causal context, these can be interpreted as treatment effects and effects of interacted treatments.\n",
        "\n",
        "## Commentary on the LPM\n",
        "\n",
        "The linear probability model is the subject of substantive debate. It is often contrasted with logit and probit models. Two major concerns are that the LPM (1) can predict invalid probabilities outside of $[0, 1]$ and (2) the regression's errors $\\epsilon$ will be heteroskedastic.\n",
        "\n",
        "Problem (2) can be fixed using robust standard errors. The technical section \"Near equivalence of LPM and conventional statistical tests\" shows that for practical sample sizes the LPM results are nearly identical to the standard statistical test for proportions, the chi-squared test.\n",
        "\n",
        "Problem (1) goes away when we use a saturated model, as we often have when analyzing experiment results. For example, examine $\\mathbf{\\hat{\\beta}}$ above in the simple case of just one treatment group. Clearly it is impossible for $\\hat{\\beta_0} + \\hat{\\beta_1} D$ to be outside $[0, 1]$ because it can only take values that are proportions within the sample.\n",
        "\n",
        "\n",
        "<!-- Let $\\mathbf{X}$ be the $n$-by-$k$ matrix of regressors. -->\n",
        "\n",
        "<!-- Suppose $N$ is the sample size.  -->"
      ]
    },
    {
      "cell_type": "markdown",
      "metadata": {
        "id": "ydoxIKTi6WoS",
        "colab_type": "text"
      },
      "source": [
        "# Near equivalence of LPM and conventional statistical tests\n",
        "\n",
        "This simulation shows that the results from a LPM regression are nearly identical to those from R's `prop.test` [0], which implements the conventional chi-squared test for equality of proportions. When there are 2 groups (treatment and control) that test is identical to the one sometimes called a two-sample proportion $z$-test.\n",
        "\n",
        "Once the combined sample size is into the thousands the results are nearly identical, including the $p$-value. At small sample sizes the LPM has slightly large $p$-values and standard errors on the ATE estimate. The chi-squared test more precise estimates and more power because it \"knows\" the binomial variance structure[link text](https://) whereas the LPM does not.\n",
        "\n",
        "[0] https://www.rdocumentation.org/packages/stats/versions/3.6.1/topics/prop.test"
      ]
    },
    {
      "cell_type": "code",
      "metadata": {
        "id": "jD2NWDeYCFcC",
        "colab_type": "code",
        "colab": {}
      },
      "source": [
        "\n",
        "N = 10000\n",
        "P_Y0 = 0.35\n",
        "ATE = 0\n",
        "P_treatment = 0.5\n",
        "\n",
        "Y0 = np.random.binomial(n=1, p=P_Y0, size=N)\n",
        "Y1 = np.random.binomial(n=1, p=P_Y0 + ATE, size=N)\n",
        "D = np.random.binomial(n=1, p=P_treatment, size=N)\n",
        "\n",
        "df = pd.DataFrame({\n",
        "    'y0': Y0,\n",
        "    'y1': Y1,\n",
        "    'd': D\n",
        "})\n",
        "df['y'] = df.eval(\"y1 * d + y0 * (1 - d)\")"
      ],
      "execution_count": 0,
      "outputs": []
    },
    {
      "cell_type": "code",
      "metadata": {
        "id": "pcN9t1sIDG4k",
        "colab_type": "code",
        "outputId": "a4a6e8d5-eb91-4fd8-f762-afe7eb2febce",
        "colab": {
          "base_uri": "https://localhost:8080/",
          "height": 300
        }
      },
      "source": [
        "df.describe()"
      ],
      "execution_count": 0,
      "outputs": [
        {
          "output_type": "execute_result",
          "data": {
            "text/html": [
              "<div>\n",
              "<style scoped>\n",
              "    .dataframe tbody tr th:only-of-type {\n",
              "        vertical-align: middle;\n",
              "    }\n",
              "\n",
              "    .dataframe tbody tr th {\n",
              "        vertical-align: top;\n",
              "    }\n",
              "\n",
              "    .dataframe thead th {\n",
              "        text-align: right;\n",
              "    }\n",
              "</style>\n",
              "<table border=\"1\" class=\"dataframe\">\n",
              "  <thead>\n",
              "    <tr style=\"text-align: right;\">\n",
              "      <th></th>\n",
              "      <th>y0</th>\n",
              "      <th>y1</th>\n",
              "      <th>d</th>\n",
              "      <th>y</th>\n",
              "    </tr>\n",
              "  </thead>\n",
              "  <tbody>\n",
              "    <tr>\n",
              "      <th>count</th>\n",
              "      <td>10000.000000</td>\n",
              "      <td>10000.000000</td>\n",
              "      <td>10000.000000</td>\n",
              "      <td>10000.000000</td>\n",
              "    </tr>\n",
              "    <tr>\n",
              "      <th>mean</th>\n",
              "      <td>0.353400</td>\n",
              "      <td>0.354400</td>\n",
              "      <td>0.499500</td>\n",
              "      <td>0.354800</td>\n",
              "    </tr>\n",
              "    <tr>\n",
              "      <th>std</th>\n",
              "      <td>0.478049</td>\n",
              "      <td>0.478355</td>\n",
              "      <td>0.500025</td>\n",
              "      <td>0.478477</td>\n",
              "    </tr>\n",
              "    <tr>\n",
              "      <th>min</th>\n",
              "      <td>0.000000</td>\n",
              "      <td>0.000000</td>\n",
              "      <td>0.000000</td>\n",
              "      <td>0.000000</td>\n",
              "    </tr>\n",
              "    <tr>\n",
              "      <th>25%</th>\n",
              "      <td>0.000000</td>\n",
              "      <td>0.000000</td>\n",
              "      <td>0.000000</td>\n",
              "      <td>0.000000</td>\n",
              "    </tr>\n",
              "    <tr>\n",
              "      <th>50%</th>\n",
              "      <td>0.000000</td>\n",
              "      <td>0.000000</td>\n",
              "      <td>0.000000</td>\n",
              "      <td>0.000000</td>\n",
              "    </tr>\n",
              "    <tr>\n",
              "      <th>75%</th>\n",
              "      <td>1.000000</td>\n",
              "      <td>1.000000</td>\n",
              "      <td>1.000000</td>\n",
              "      <td>1.000000</td>\n",
              "    </tr>\n",
              "    <tr>\n",
              "      <th>max</th>\n",
              "      <td>1.000000</td>\n",
              "      <td>1.000000</td>\n",
              "      <td>1.000000</td>\n",
              "      <td>1.000000</td>\n",
              "    </tr>\n",
              "  </tbody>\n",
              "</table>\n",
              "</div>"
            ],
            "text/plain": [
              "                 y0            y1             d             y\n",
              "count  10000.000000  10000.000000  10000.000000  10000.000000\n",
              "mean       0.353400      0.354400      0.499500      0.354800\n",
              "std        0.478049      0.478355      0.500025      0.478477\n",
              "min        0.000000      0.000000      0.000000      0.000000\n",
              "25%        0.000000      0.000000      0.000000      0.000000\n",
              "50%        0.000000      0.000000      0.000000      0.000000\n",
              "75%        1.000000      1.000000      1.000000      1.000000\n",
              "max        1.000000      1.000000      1.000000      1.000000"
            ]
          },
          "metadata": {
            "tags": []
          },
          "execution_count": 6
        }
      ]
    },
    {
      "cell_type": "code",
      "metadata": {
        "id": "RehuZEgoDHR8",
        "colab_type": "code",
        "outputId": "282bd39d-6d0e-4d2b-986e-a70a8d56b017",
        "colab": {
          "base_uri": "https://localhost:8080/",
          "height": 451
        }
      },
      "source": [
        "# The parameter cov_type='HC1' uses the robust standard error estimator.\n",
        "# This is important when estimating a LPM.\n",
        "r = sfa.ols(\"y ~ d\", data=df).fit(cov_type='HC1')\n",
        "print(r.summary())"
      ],
      "execution_count": 0,
      "outputs": [
        {
          "output_type": "stream",
          "text": [
            "                            OLS Regression Results                            \n",
            "==============================================================================\n",
            "Dep. Variable:                      y   R-squared:                       0.000\n",
            "Model:                            OLS   Adj. R-squared:                  0.000\n",
            "Method:                 Least Squares   F-statistic:                     1.202\n",
            "Date:                Tue, 10 Sep 2019   Prob (F-statistic):              0.273\n",
            "Time:                        02:22:16   Log-Likelihood:                -6816.8\n",
            "No. Observations:               10000   AIC:                         1.364e+04\n",
            "Df Residuals:                    9998   BIC:                         1.365e+04\n",
            "Df Model:                           1                                         \n",
            "Covariance Type:                  HC1                                         \n",
            "==============================================================================\n",
            "                 coef    std err          z      P>|z|      [0.025      0.975]\n",
            "------------------------------------------------------------------------------\n",
            "Intercept      0.3600      0.007     53.059      0.000       0.347       0.373\n",
            "d             -0.0105      0.010     -1.096      0.273      -0.029       0.008\n",
            "==============================================================================\n",
            "Omnibus:                    47890.660   Durbin-Watson:                   2.005\n",
            "Prob(Omnibus):                  0.000   Jarque-Bera (JB):             1722.460\n",
            "Skew:                           0.607   Prob(JB):                         0.00\n",
            "Kurtosis:                       1.369   Cond. No.                         2.62\n",
            "==============================================================================\n",
            "\n",
            "Warnings:\n",
            "[1] Standard Errors are heteroscedasticity robust (HC1)\n"
          ],
          "name": "stdout"
        }
      ]
    },
    {
      "cell_type": "code",
      "metadata": {
        "id": "R3T9NCoUD2Fi",
        "colab_type": "code",
        "colab": {}
      },
      "source": [
        "# Import rpy2 which lets us use R functions in Python.\n",
        "# This is useful because R has many statistical functions\n",
        "# that we don't have in Python and these are more likely to\n",
        "# be written by professional statisticians and be battle-proven.\n",
        "from rpy2.robjects import IntVector, default_converter\n",
        "from rpy2.robjects.packages import importr\n",
        "\n",
        "stats = importr('stats')\n",
        "\n",
        "def stats_prop_test(e1, e2, n1, n2):\n",
        "  x = IntVector([e1, e2])\n",
        "  ns = [n1, n2]\n",
        "  n = IntVector(ns)\n",
        "  n_array = np.array([n1, n2])\n",
        "  \n",
        "  # Recommended to not use continuity correction for large sample sizes:\n",
        "  # https://en.wikipedia.org/wiki/Yates%27s_correction_for_continuity\n",
        "  result = stats.prop_test(x=x, n=n, correct=False)\n",
        "  z = result.rx('statistic')[0][0] ** 0.5\n",
        "  r_estimate = result.rx('estimate')[0]\n",
        "  estimates = np.array([r_estimate[0], r_estimate[1]])\n",
        "  var = np.array(list(map(lambda p: p * (1 - p), estimates)))\n",
        "  \n",
        "  se = np.sqrt(np.divide(var, n_array))\n",
        "  difference = estimates[1] - estimates[0]\n",
        "  p_value = result.rx('p.value')[0][0]\n",
        "  return {\n",
        "      'estimates': estimates,\n",
        "      'difference': difference,\n",
        "      'se': se,\n",
        "      'difference_se': np.sqrt((se ** 2).sum()),\n",
        "      'z': z, \n",
        "      'p_value': p_value\n",
        "  }"
      ],
      "execution_count": 0,
      "outputs": []
    },
    {
      "cell_type": "code",
      "metadata": {
        "id": "wBjWoJWtloAX",
        "colab_type": "code",
        "colab": {}
      },
      "source": [
        "\n",
        "def compare_lpm_prop_test(\n",
        "  N = 10000,\n",
        "  P_Y0 = 0.35,\n",
        "  ATE = 0.02,\n",
        "  P_treatment = 0.5\n",
        "):\n",
        "  params = locals().copy()\n",
        "  \n",
        "  #treatment_units = np.random.choice(units, int(len(units) * share_treatment), replace=False)\n",
        "  #df = pd.DataFrame({'i': units})\n",
        "  ## Set the treatment units to have d_i = 1\n",
        "  #df['d'] = df['i'].isin(treatment_units).astype('float')\n",
        "  Y0 = np.random.binomial(n=1, p=P_Y0, size=N)\n",
        "  Y1 = np.random.binomial(n=1, p=P_Y0 + ATE, size=N)\n",
        "  D = np.random.binomial(n=1, p=P_treatment, size=N)\n",
        "\n",
        "  units = np.arange(0, N)\n",
        "  df = pd.DataFrame({\n",
        "      'i': units,\n",
        "      'y0': Y0,\n",
        "      'y1': Y1,\n",
        "  })\n",
        "  treatment_units = np.random.choice(units, int(len(units) * P_treatment), replace=False)\n",
        "  df['d'] = df['i'].isin(treatment_units).astype('float')\n",
        "  df['y'] = df.eval(\"y1 * d + y0 * (1 - d)\")\n",
        "\n",
        "  # Get regression results\n",
        "  result_reg = sfa.ols(\"y ~ d\", data=df).fit(cov_type='HC1')\n",
        "  #result_reg = sfa.ols(\"y ~ d\", data=df).fit()\n",
        "\n",
        "  # Get prop_test results\n",
        "  result_prop_test = stats_prop_test(\n",
        "      df.query(\"d==0\")['y'].sum(),\n",
        "      df.query(\"d==1\")['y'].sum(),\n",
        "      df.query(\"d==0\")['y'].count(),\n",
        "      df.query(\"d==1\")['y'].count(),\n",
        "  )\n",
        "  diffs = {\n",
        "      'difference': (result_reg.params['d'] - result_prop_test['difference']),\n",
        "      'se': (result_reg.bse['d'] - result_prop_test['difference_se']),\n",
        "      'p': (result_reg.pvalues['d'] - result_prop_test['p_value'])\n",
        "  }\n",
        "  diffs.update(params)\n",
        "  return diffs\n"
      ],
      "execution_count": 0,
      "outputs": []
    },
    {
      "cell_type": "code",
      "metadata": {
        "id": "4Qsr_KL-lxpJ",
        "colab_type": "code",
        "outputId": "e19b9680-d781-48df-fdab-eb7e68b736f0",
        "colab": {
          "base_uri": "https://localhost:8080/",
          "height": 300
        }
      },
      "source": [
        "checks = pd.DataFrame([compare_lpm_prop_test(N=N) for _ in np.arange(0, 10) for N in np.arange(100, 20000, 500)])\n",
        "checks.describe()"
      ],
      "execution_count": 0,
      "outputs": [
        {
          "output_type": "execute_result",
          "data": {
            "text/html": [
              "<div>\n",
              "<style scoped>\n",
              "    .dataframe tbody tr th:only-of-type {\n",
              "        vertical-align: middle;\n",
              "    }\n",
              "\n",
              "    .dataframe tbody tr th {\n",
              "        vertical-align: top;\n",
              "    }\n",
              "\n",
              "    .dataframe thead th {\n",
              "        text-align: right;\n",
              "    }\n",
              "</style>\n",
              "<table border=\"1\" class=\"dataframe\">\n",
              "  <thead>\n",
              "    <tr style=\"text-align: right;\">\n",
              "      <th></th>\n",
              "      <th>ATE</th>\n",
              "      <th>N</th>\n",
              "      <th>P_Y0</th>\n",
              "      <th>P_treatment</th>\n",
              "      <th>difference</th>\n",
              "      <th>p</th>\n",
              "      <th>se</th>\n",
              "    </tr>\n",
              "  </thead>\n",
              "  <tbody>\n",
              "    <tr>\n",
              "      <th>count</th>\n",
              "      <td>4.000000e+02</td>\n",
              "      <td>400.000000</td>\n",
              "      <td>4.000000e+02</td>\n",
              "      <td>400.0</td>\n",
              "      <td>4.000000e+02</td>\n",
              "      <td>400.000000</td>\n",
              "      <td>4.000000e+02</td>\n",
              "    </tr>\n",
              "    <tr>\n",
              "      <th>mean</th>\n",
              "      <td>2.000000e-02</td>\n",
              "      <td>9850.000000</td>\n",
              "      <td>3.500000e-01</td>\n",
              "      <td>0.5</td>\n",
              "      <td>1.504466e-18</td>\n",
              "      <td>0.000052</td>\n",
              "      <td>2.872905e-05</td>\n",
              "    </tr>\n",
              "    <tr>\n",
              "      <th>std</th>\n",
              "      <td>2.084275e-16</td>\n",
              "      <td>5778.926369</td>\n",
              "      <td>2.612292e-15</td>\n",
              "      <td>0.0</td>\n",
              "      <td>1.469516e-16</td>\n",
              "      <td>0.000360</td>\n",
              "      <td>1.530380e-04</td>\n",
              "    </tr>\n",
              "    <tr>\n",
              "      <th>min</th>\n",
              "      <td>2.000000e-02</td>\n",
              "      <td>100.000000</td>\n",
              "      <td>3.500000e-01</td>\n",
              "      <td>0.5</td>\n",
              "      <td>-5.065393e-16</td>\n",
              "      <td>-0.000370</td>\n",
              "      <td>3.489357e-07</td>\n",
              "    </tr>\n",
              "    <tr>\n",
              "      <th>25%</th>\n",
              "      <td>2.000000e-02</td>\n",
              "      <td>4975.000000</td>\n",
              "      <td>3.500000e-01</td>\n",
              "      <td>0.5</td>\n",
              "      <td>-7.285839e-17</td>\n",
              "      <td>-0.000015</td>\n",
              "      <td>5.360070e-07</td>\n",
              "    </tr>\n",
              "    <tr>\n",
              "      <th>50%</th>\n",
              "      <td>2.000000e-02</td>\n",
              "      <td>9850.000000</td>\n",
              "      <td>3.500000e-01</td>\n",
              "      <td>0.5</td>\n",
              "      <td>0.000000e+00</td>\n",
              "      <td>-0.000005</td>\n",
              "      <td>9.829092e-07</td>\n",
              "    </tr>\n",
              "    <tr>\n",
              "      <th>75%</th>\n",
              "      <td>2.000000e-02</td>\n",
              "      <td>14725.000000</td>\n",
              "      <td>3.500000e-01</td>\n",
              "      <td>0.5</td>\n",
              "      <td>6.938894e-17</td>\n",
              "      <td>0.000012</td>\n",
              "      <td>2.740034e-06</td>\n",
              "    </tr>\n",
              "    <tr>\n",
              "      <th>max</th>\n",
              "      <td>2.000000e-02</td>\n",
              "      <td>19600.000000</td>\n",
              "      <td>3.500000e-01</td>\n",
              "      <td>0.5</td>\n",
              "      <td>5.481726e-16</td>\n",
              "      <td>0.003335</td>\n",
              "      <td>1.007100e-03</td>\n",
              "    </tr>\n",
              "  </tbody>\n",
              "</table>\n",
              "</div>"
            ],
            "text/plain": [
              "                ATE             N  ...           p            se\n",
              "count  4.000000e+02    400.000000  ...  400.000000  4.000000e+02\n",
              "mean   2.000000e-02   9850.000000  ...    0.000052  2.872905e-05\n",
              "std    2.084275e-16   5778.926369  ...    0.000360  1.530380e-04\n",
              "min    2.000000e-02    100.000000  ...   -0.000370  3.489357e-07\n",
              "25%    2.000000e-02   4975.000000  ...   -0.000015  5.360070e-07\n",
              "50%    2.000000e-02   9850.000000  ...   -0.000005  9.829092e-07\n",
              "75%    2.000000e-02  14725.000000  ...    0.000012  2.740034e-06\n",
              "max    2.000000e-02  19600.000000  ...    0.003335  1.007100e-03\n",
              "\n",
              "[8 rows x 7 columns]"
            ]
          },
          "metadata": {
            "tags": []
          },
          "execution_count": 9
        }
      ]
    },
    {
      "cell_type": "code",
      "metadata": {
        "id": "bRU_WbMnEeBV",
        "colab_type": "code",
        "colab": {}
      },
      "source": [
        ""
      ],
      "execution_count": 0,
      "outputs": []
    },
    {
      "cell_type": "code",
      "metadata": {
        "id": "sh2FH3dAwgE8",
        "colab_type": "code",
        "outputId": "20a4de6f-c579-45dc-c0ef-49a42a360020",
        "colab": {
          "base_uri": "https://localhost:8080/",
          "height": 424
        }
      },
      "source": [
        "ax = checks.groupby('N')['p'].mean().plot(figsize=(9,6), linewidth=4)\n",
        "ax.set_ylabel(\"p-value (LPM, robust) - p-value (chi^2)\", fontsize=18)\n",
        "ax.set_xlabel(\"Combined sample size\", fontsize=18)\n",
        "ax.set_title(\"Compare p-value on ATE estimate\", fontsize=18)\n",
        "ax.tick_params(labelsize=18)"
      ],
      "execution_count": 0,
      "outputs": [
        {
          "output_type": "display_data",
          "data": {
            "image/png": "[encoded data removed]",
            "text/plain": [
              "<Figure size 648x432 with 1 Axes>"
            ]
          },
          "metadata": {
            "tags": []
          }
        }
      ]
    },
    {
      "cell_type": "code",
      "metadata": {
        "id": "A9DjDpps7H6G",
        "colab_type": "code",
        "outputId": "3c6e56af-0490-4437-9420-c9f21c03cfc4",
        "colab": {
          "base_uri": "https://localhost:8080/",
          "height": 424
        }
      },
      "source": [
        "ax = checks.groupby('N')['se'].mean().plot(figsize=(9,6), linewidth=4)\n",
        "ax.set_ylabel(\"SE (LPM, robust) - SE (chi^2)\", fontsize=18)\n",
        "ax.set_xlabel(\"Combined sample size\", fontsize=18)\n",
        "ax.set_title(\"Compare SEs on ATE estimate\", fontsize=18)\n",
        "ax.tick_params(labelsize=18)"
      ],
      "execution_count": 0,
      "outputs": [
        {
          "output_type": "display_data",
          "data": {
            "image/png": "[encoded data removed]",
            "text/plain": [
              "<Figure size 648x432 with 1 Axes>"
            ]
          },
          "metadata": {
            "tags": []
          }
        }
      ]
    },
    {
      "cell_type": "code",
      "metadata": {
        "id": "T9rM5hNC7O9m",
        "colab_type": "code",
        "outputId": "4eed21c4-ccfb-4c3c-f6d5-3d9fdbfbde0e",
        "colab": {
          "base_uri": "https://localhost:8080/",
          "height": 424
        }
      },
      "source": [
        "ax = checks.groupby('N')['difference'].mean().plot(figsize=(9,6), linewidth=4)\n",
        "ax.set_ylabel(\"ATE (LPM, robust) - ATE (chi^2)\", fontsize=18)\n",
        "ax.set_xlabel(\"Combined sample size\", fontsize=18)\n",
        "ax.set_title(\"Compare ATE estimate\", fontsize=18)\n",
        "ax.set_ylim(-0.01, 0.01)\n",
        "ax.tick_params(labelsize=18)"
      ],
      "execution_count": 0,
      "outputs": [
        {
          "output_type": "display_data",
          "data": {
            "image/png": "[encoded data removed]",
            "text/plain": [
              "<Figure size 648x432 with 1 Axes>"
            ]
          },
          "metadata": {
            "tags": []
          }
        }
      ]
    },
    {
      "cell_type": "code",
      "metadata": {
        "id": "8zbONb8GCFwW",
        "colab_type": "code",
        "colab": {}
      },
      "source": [
        ""
      ],
      "execution_count": 0,
      "outputs": []
    },
    {
      "cell_type": "markdown",
      "metadata": {
        "id": "1SWlF8ZfB-xf",
        "colab_type": "text"
      },
      "source": [
        "## Bonus: LPM vs Logit\n",
        "\n",
        "The LPM vs. logit debate is a hot one. This result shows that for the case of a simple experiment\n",
        "they will give us identical results. The advantage of the LPM is that the coefficents\n",
        "are easier to interpret."
      ]
    },
    {
      "cell_type": "code",
      "metadata": {
        "id": "XCWlucQTBYk1",
        "colab_type": "code",
        "outputId": "d85df5fb-0647-44ae-c785-b6f0972d3ae5",
        "colab": {
          "base_uri": "https://localhost:8080/",
          "height": 196
        }
      },
      "source": [
        "\n",
        "# Fit a logit model!\n",
        "rlog = sfa.logit(\"y ~ d\", data=df).fit()\n",
        "\n",
        "# Add predicted probabilities back to the dataframe.\n",
        "# Use both the LPM and logit results.\n",
        "df['p_lpm'] = r.predict()\n",
        "df['p_logit'] = rlog.predict()\n",
        "\n",
        "# The predictions are identical!\n",
        "assert(np.allclose(r.predict(), rlog.predict()))\n",
        "\n",
        "# The means are all the same!\n",
        "df.groupby(['d'])[['y', 'p_lpm', 'p_logit']].mean()"
      ],
      "execution_count": 0,
      "outputs": [
        {
          "output_type": "stream",
          "text": [
            "Optimization terminated successfully.\n",
            "         Current function value: 0.646673\n",
            "         Iterations 4\n"
          ],
          "name": "stdout"
        },
        {
          "output_type": "execute_result",
          "data": {
            "text/html": [
              "<div>\n",
              "<style scoped>\n",
              "    .dataframe tbody tr th:only-of-type {\n",
              "        vertical-align: middle;\n",
              "    }\n",
              "\n",
              "    .dataframe tbody tr th {\n",
              "        vertical-align: top;\n",
              "    }\n",
              "\n",
              "    .dataframe thead th {\n",
              "        text-align: right;\n",
              "    }\n",
              "</style>\n",
              "<table border=\"1\" class=\"dataframe\">\n",
              "  <thead>\n",
              "    <tr style=\"text-align: right;\">\n",
              "      <th></th>\n",
              "      <th>y</th>\n",
              "      <th>p_lpm</th>\n",
              "      <th>p_logit</th>\n",
              "    </tr>\n",
              "    <tr>\n",
              "      <th>d</th>\n",
              "      <th></th>\n",
              "      <th></th>\n",
              "      <th></th>\n",
              "    </tr>\n",
              "  </thead>\n",
              "  <tbody>\n",
              "    <tr>\n",
              "      <th>0</th>\n",
              "      <td>0.345231</td>\n",
              "      <td>0.345231</td>\n",
              "      <td>0.345231</td>\n",
              "    </tr>\n",
              "    <tr>\n",
              "      <th>1</th>\n",
              "      <td>0.352311</td>\n",
              "      <td>0.352311</td>\n",
              "      <td>0.352311</td>\n",
              "    </tr>\n",
              "  </tbody>\n",
              "</table>\n",
              "</div>"
            ],
            "text/plain": [
              "          y     p_lpm   p_logit\n",
              "d                              \n",
              "0  0.345231  0.345231  0.345231\n",
              "1  0.352311  0.352311  0.352311"
            ]
          },
          "metadata": {
            "tags": []
          },
          "execution_count": 13
        }
      ]
    },
    {
      "cell_type": "code",
      "metadata": {
        "id": "yFdjQdOkBhmM",
        "colab_type": "code",
        "colab": {}
      },
      "source": [
        ""
      ],
      "execution_count": 0,
      "outputs": []
    },
    {
      "cell_type": "markdown",
      "metadata": {
        "id": "NMoHsI5skY2L",
        "colab_type": "text"
      },
      "source": [
        "# Reproducing results from a real field experiment\n",
        "\n",
        "## Paper\n",
        "\"Getting to the Top of Mind: How Reminders Increase Savings\" by Dean Karlan, Margaret McConnell, Sendhil Mullainathan, Jonathan Zinman. _Management Science_ 2016.\n",
        "\n",
        "### Abstract\n",
        "\"We provide evidence from field experiments with three different banks that reminder messages increase commitment attainment for clients who recently opened commitment savings accounts. Messages that mention both savings goals and financial incentives are particularly effective, whereas other content variations such as gain versus loss framing do not have significantly different effects. Nor do we find evidence that receiving additional late reminders has an additive effect. These empirical results do not map neatly into existing models, so we provide a simple model where limited attention to exceptional expenses can generate undersaving that is in turn mitigated by reminders.\"\n",
        "\n",
        "### Data and code\n",
        "`https://dataverse.harvard.edu/dataset.xhtml?persistentId=doi:10.7910/DVN/UJD5OP`\n",
        "\n",
        "\n",
        "## Summary\n",
        "These development economists worked with banks in three countries to study savings behavior. Bank clients had new accounts with a target level of money saved, i.e., a savings goal. The study aimed to understand what can increase the probability that the clients would reach the goal by a pre-specified date. They ran a field experiment where clients were randomly assigned to (1) a *treatment condition* where the client received a text message to remind them about the savings goal or (2) a *control condition* with no reminder. \n",
        "\n",
        "The sample was 13,560 bank clients in Bolivia, Peru, and the Philippines.\n",
        "\n",
        "A key finding from the study was that the reminder treatment increases the probability of reaching the savings goal by 3.2 percentage points (with a standard error of 0.009 percentage points). The authors declared this statistically significant with $p<0.01$. The overall percentage of clients that reached the savings goal was about 55 percent.\n",
        "\n",
        "## Reproducing the results\n",
        "\n",
        "Below is the main table of results from the paper. We will reproduce columns 3 and 4, which are regression results from a LPM. The outcome variable is whether or not the client reached the savings goal. \"Panel A\" shows the estimates treatment effects from the entire sample of data.\n",
        "\n",
        "Fortunately the data and Stata do-files were shared at the Harvard Dataverse (see above). The data was already cleaned and prepared. We only need to translate their regression specification from Stata to Statsmodels.\n",
        "\n",
        "\n",
        "![karlan_table_4](https://raw.githubusercontent.com/kyleco/kyleco.github.io/master/images/karlan_table_4.png)\n",
        "\n"
      ]
    },
    {
      "cell_type": "code",
      "metadata": {
        "id": "PiqbhJVShE2c",
        "colab_type": "code",
        "outputId": "29fdd7f9-3018-4015-d2d0-d1f15d599069",
        "colab": {
          "base_uri": "https://localhost:8080/",
          "height": 69
        }
      },
      "source": [
        "# Load the data and check out the key variables\n",
        "rem = pd.read_csv(\"https://raw.githubusercontent.com/kyleco/kyleco.github.io/master/data/analysis_dataallcountries.csv\")\n",
        "\n",
        "# We see that 55% of clients reached the goal and 61% received the reminder treatment.\n",
        "print(rem[['reached_b4goal', 'rem_any']].mean())"
      ],
      "execution_count": 0,
      "outputs": [
        {
          "output_type": "stream",
          "text": [
            "reached_b4goal    0.553319\n",
            "rem_any           0.611578\n",
            "dtype: float64\n"
          ],
          "name": "stdout"
        }
      ]
    },
    {
      "cell_type": "code",
      "metadata": {
        "id": "EqBjplnNeE8N",
        "colab_type": "code",
        "colab": {}
      },
      "source": [
        "# This is the paper's regression in Stata.\n",
        "\n",
        "# local randfeature= \"highint rewardint joint dc joint_single\"\n",
        "# local covariates = \"female age highschool_completed married inc_7d wealthy hyperbolic spent_b4isaved saved_asmuch missing_female missing_age missing_highschool_completed missing_married missing_saved_asmuch missing_spent_b4isaved\"\n",
        "\n",
        "# Cols 3 and 4\n",
        "# xi: reg reached_b4goal rem_any `randfeature' i.country, robust\n",
        "# xi: reg reached_b4goal rem_any `covariates' `randfeature' i.depart i.provincia i.marketer i.branch i.country, robust\n",
        "\n"
      ],
      "execution_count": 0,
      "outputs": []
    },
    {
      "cell_type": "code",
      "metadata": {
        "id": "H-WQHnPxeUyn",
        "colab_type": "code",
        "colab": {}
      },
      "source": [
        "# Set up our variables\n",
        "randfeature = \"highint rewardint joint dc joint_single\"\n",
        "covariates = \"female  highschool_completed married inc_7d wealthy hyperbolic spent_b4isaved saved_asmuch missing_female missing_age missing_highschool_completed missing_married missing_saved_asmuch missing_spent_b4isaved\"\n",
        "\n",
        "Xrandfeature = \"+\".join(randfeature.split())\n",
        "Xfull = \"+\".join(randfeature.split() + covariates.split())\n",
        "\n",
        "# NOTE: In a LPM in Statsmodels the outcome has to be a float!\n",
        "# It will complain if this is an int!\n",
        "rem['reached_b4goal'] = rem['reached_b4goal'].astype('float')\n",
        "rem['female'] = rem['female'].astype('float')\n",
        "\n",
        "\n",
        "\n",
        "formula_col3 = \"reached_b4goal ~ rem_any + {Xs} + C(country)\".format(Xs=Xrandfeature)\n",
        "r_col3 = sfa.ols(formula_col3, data=rem).fit(cov_type='HC1')\n",
        "\n",
        "formula_col4 = \"reached_b4goal ~ rem_any + {Xs} + C(depart) + C(provincia) + C(marketer) + C(branch) + C(country)\".format(Xs=Xfull)\n",
        "r_col4 = sfa.ols(formula_col4, data=rem).fit(cov_type='HC1')\n",
        "\n",
        "# Let's do a really simple model with only country dummies as controls\n",
        "formula_simple = \"reached_b4goal ~ rem_any + C(country)\"\n",
        "r_simple = sfa.ols(formula_simple, data=rem).fit(cov_type='HC1')\n",
        "\n",
        "# Simplest possible model. Bivariate!\n",
        "formula_biv = \"reached_b4goal ~ rem_any\"\n",
        "r_biv = sfa.ols(formula_biv, data=rem).fit(cov_type='HC1')\n"
      ],
      "execution_count": 0,
      "outputs": []
    },
    {
      "cell_type": "code",
      "metadata": {
        "id": "lxEmEbn7PNHP",
        "colab_type": "code",
        "outputId": "196f2331-50fb-4fb6-975c-73669c23bb4d",
        "colab": {
          "base_uri": "https://localhost:8080/",
          "height": 451
        }
      },
      "source": [
        "print(r_biv.summary())"
      ],
      "execution_count": 0,
      "outputs": [
        {
          "output_type": "stream",
          "text": [
            "                            OLS Regression Results                            \n",
            "==============================================================================\n",
            "Dep. Variable:         reached_b4goal   R-squared:                       0.001\n",
            "Model:                            OLS   Adj. R-squared:                  0.000\n",
            "Method:                 Least Squares   F-statistic:                     7.693\n",
            "Date:                Tue, 10 Sep 2019   Prob (F-statistic):            0.00555\n",
            "Time:                        03:35:11   Log-Likelihood:                -9760.3\n",
            "No. Observations:               13560   AIC:                         1.952e+04\n",
            "Df Residuals:                   13558   BIC:                         1.954e+04\n",
            "Df Model:                           1                                         \n",
            "Covariance Type:                  HC1                                         \n",
            "==============================================================================\n",
            "                 coef    std err          z      P>|z|      [0.025      0.975]\n",
            "------------------------------------------------------------------------------\n",
            "Intercept      0.5384      0.007     78.381      0.000       0.525       0.552\n",
            "rem_any        0.0243      0.009      2.774      0.006       0.007       0.042\n",
            "==============================================================================\n",
            "Omnibus:                    47952.369   Durbin-Watson:                   1.911\n",
            "Prob(Omnibus):                  0.000   Jarque-Bera (JB):             2256.110\n",
            "Skew:                          -0.214   Prob(JB):                         0.00\n",
            "Kurtosis:                       1.048   Cond. No.                         2.97\n",
            "==============================================================================\n",
            "\n",
            "Warnings:\n",
            "[1] Standard Errors are heteroscedasticity robust (HC1)\n"
          ],
          "name": "stdout"
        }
      ]
    },
    {
      "cell_type": "code",
      "metadata": {
        "id": "-PEb8LNpe5SU",
        "colab_type": "code",
        "outputId": "0babb3b0-2939-4bfb-abea-4cac735b1707",
        "colab": {
          "base_uri": "https://localhost:8080/",
          "height": 260
        }
      },
      "source": [
        "info_dict={'R-squared' : lambda x: f\"{x.rsquared:0.4f}\",\n",
        "           'No. observations' : lambda x: f\"{int(x.nobs):d}\",\n",
        "           'No. coefficients': lambda x: f\"{x.params.shape[0]}\"\n",
        "          }\n",
        "\n",
        "results_table = summary_col(results=[r_col3, r_col4, r_simple, r_biv],\n",
        "                            float_format='%0.6f',\n",
        "                            stars = True,\n",
        "                            model_names=[\n",
        "                                'Column 3\\n(in paper)',\n",
        "                                'Column 4\\n(in paper)',\n",
        "                                'Only country controls\\n(not in paper)',\n",
        "                                'Simplest possible\\n(not in paper)'\n",
        "                            ],\n",
        "                            info_dict=info_dict,\n",
        "                            regressor_order=['rem_any'],\n",
        "                            drop_omitted=True)\n",
        "\n",
        "print(\"Reproducing table 4 in Karlan et al. 2016\")\n",
        "print(results_table)"
      ],
      "execution_count": 0,
      "outputs": [
        {
          "output_type": "stream",
          "text": [
            "Reproducing table 4 in Karlan et al. 2016\n",
            "\n",
            "================================================================================\n",
            "                   Column 3    Column 4  Only country controls Simplest possible\n",
            "                  (in paper)  (in paper)     (not in paper)      (not in paper) \n",
            "--------------------------------------------------------------------------------\n",
            "rem_any          0.031855*** 0.031731*** 0.031593***           0.024317***      \n",
            "                 (0.009153)  (0.008946)  (0.009125)            (0.008767)       \n",
            "R-squared        0.0671      0.1096      0.0668                0.0006           \n",
            "No. observations 13560       13560       13560                 13560            \n",
            "No. coefficients 9           62          4                     2                \n",
            "================================================================================\n",
            "Standard errors in parentheses.\n",
            "* p<.1, ** p<.05, ***p<.01\n"
          ],
          "name": "stdout"
        }
      ]
    },
    {
      "cell_type": "markdown",
      "metadata": {
        "id": "NSu1DMZ5uuVq",
        "colab_type": "text"
      },
      "source": [
        "## Why is the simplest model so different?\n",
        "\n",
        "The estimate from the simple model is only 0.024 whereas the others were all about 0.032. Why is this?\n",
        "\n",
        "The table below shows that the the treatment proportions were much higher in Bolivia and the Philippines *and* they very different overall goal achievement rates. The treatment group has disproporionately more Bolivians, who have a much higher baseline goal achievement rate.\n",
        "\n",
        "This means that the independence assumption is probably not true. The treatment $D$ is correlated with country which is correlated with goal achievement. The second table shows this is true even for the non-treated baseline. As a result our usual approach does not work!\n",
        "\n",
        "This is due to the randomization process being handled differently within each country. However, we can probably assume the *conditional independence assumption*\n",
        "\n",
        "$$(Y^1, Y^0) \\perp D | S$$\n",
        "\n",
        "where $S$ is country. This assumption means we can still estimate the ATE, but we need to account for $S$ in our analysis. We do that by including country as a regression. The results show that once we do that the estimates are very stable even when we include other control variables."
      ]
    },
    {
      "cell_type": "code",
      "metadata": {
        "id": "8ap2Vm-bgekE",
        "colab_type": "code",
        "outputId": "ab8dec17-e414-44ef-afd9-70c205ff2c66",
        "colab": {
          "base_uri": "https://localhost:8080/",
          "height": 206
        }
      },
      "source": [
        "rem.groupby('country')[['rem_any', 'reached_b4goal']].agg(['count', 'mean'])"
      ],
      "execution_count": 0,
      "outputs": [
        {
          "output_type": "execute_result",
          "data": {
            "text/html": [
              "<div>\n",
              "<style scoped>\n",
              "    .dataframe tbody tr th:only-of-type {\n",
              "        vertical-align: middle;\n",
              "    }\n",
              "\n",
              "    .dataframe tbody tr th {\n",
              "        vertical-align: top;\n",
              "    }\n",
              "\n",
              "    .dataframe thead tr th {\n",
              "        text-align: left;\n",
              "    }\n",
              "\n",
              "    .dataframe thead tr:last-of-type th {\n",
              "        text-align: right;\n",
              "    }\n",
              "</style>\n",
              "<table border=\"1\" class=\"dataframe\">\n",
              "  <thead>\n",
              "    <tr>\n",
              "      <th></th>\n",
              "      <th colspan=\"2\" halign=\"left\">rem_any</th>\n",
              "      <th colspan=\"2\" halign=\"left\">reached_b4goal</th>\n",
              "    </tr>\n",
              "    <tr>\n",
              "      <th></th>\n",
              "      <th>count</th>\n",
              "      <th>mean</th>\n",
              "      <th>count</th>\n",
              "      <th>mean</th>\n",
              "    </tr>\n",
              "    <tr>\n",
              "      <th>country</th>\n",
              "      <th></th>\n",
              "      <th></th>\n",
              "      <th></th>\n",
              "      <th></th>\n",
              "    </tr>\n",
              "  </thead>\n",
              "  <tbody>\n",
              "    <tr>\n",
              "      <th>1</th>\n",
              "      <td>2775</td>\n",
              "      <td>0.877838</td>\n",
              "      <td>2775</td>\n",
              "      <td>0.690811</td>\n",
              "    </tr>\n",
              "    <tr>\n",
              "      <th>2</th>\n",
              "      <td>9376</td>\n",
              "      <td>0.501280</td>\n",
              "      <td>9376</td>\n",
              "      <td>0.564420</td>\n",
              "    </tr>\n",
              "    <tr>\n",
              "      <th>3</th>\n",
              "      <td>1409</td>\n",
              "      <td>0.821150</td>\n",
              "      <td>1409</td>\n",
              "      <td>0.208659</td>\n",
              "    </tr>\n",
              "  </tbody>\n",
              "</table>\n",
              "</div>"
            ],
            "text/plain": [
              "        rem_any           reached_b4goal          \n",
              "          count      mean          count      mean\n",
              "country                                           \n",
              "1          2775  0.877838           2775  0.690811\n",
              "2          9376  0.501280           9376  0.564420\n",
              "3          1409  0.821150           1409  0.208659"
            ]
          },
          "metadata": {
            "tags": []
          },
          "execution_count": 17
        }
      ]
    },
    {
      "cell_type": "code",
      "metadata": {
        "id": "ZgdWCsGzuh1R",
        "colab_type": "code",
        "outputId": "f33b686a-f7c1-4d22-c42d-657643109861",
        "colab": {
          "base_uri": "https://localhost:8080/",
          "height": 175
        }
      },
      "source": [
        "rem.groupby(['country', 'rem_any'])['reached_b4goal'].mean().unstack(1)"
      ],
      "execution_count": 0,
      "outputs": [
        {
          "output_type": "execute_result",
          "data": {
            "text/html": [
              "<div>\n",
              "<style scoped>\n",
              "    .dataframe tbody tr th:only-of-type {\n",
              "        vertical-align: middle;\n",
              "    }\n",
              "\n",
              "    .dataframe tbody tr th {\n",
              "        vertical-align: top;\n",
              "    }\n",
              "\n",
              "    .dataframe thead th {\n",
              "        text-align: right;\n",
              "    }\n",
              "</style>\n",
              "<table border=\"1\" class=\"dataframe\">\n",
              "  <thead>\n",
              "    <tr style=\"text-align: right;\">\n",
              "      <th>rem_any</th>\n",
              "      <th>0</th>\n",
              "      <th>1</th>\n",
              "    </tr>\n",
              "    <tr>\n",
              "      <th>country</th>\n",
              "      <th></th>\n",
              "      <th></th>\n",
              "    </tr>\n",
              "  </thead>\n",
              "  <tbody>\n",
              "    <tr>\n",
              "      <th>1</th>\n",
              "      <td>0.657817</td>\n",
              "      <td>0.695402</td>\n",
              "    </tr>\n",
              "    <tr>\n",
              "      <th>2</th>\n",
              "      <td>0.548118</td>\n",
              "      <td>0.580638</td>\n",
              "    </tr>\n",
              "    <tr>\n",
              "      <th>3</th>\n",
              "      <td>0.198413</td>\n",
              "      <td>0.210890</td>\n",
              "    </tr>\n",
              "  </tbody>\n",
              "</table>\n",
              "</div>"
            ],
            "text/plain": [
              "rem_any         0         1\n",
              "country                    \n",
              "1        0.657817  0.695402\n",
              "2        0.548118  0.580638\n",
              "3        0.198413  0.210890"
            ]
          },
          "metadata": {
            "tags": []
          },
          "execution_count": 18
        }
      ]
    },
    {
      "cell_type": "markdown",
      "metadata": {
        "id": "5LAEHxFR-bSi",
        "colab_type": "text"
      },
      "source": [
        "## Commentary on the standard errors and covariates\n",
        "\n",
        "Above we reproduced columns 3 and 4 of the paper. Column 3 is a model that has the treatment `rem_any` and 7 other control variables. Column 4 is a model with the treatment and 60 other control variables! \n",
        "\n",
        "Adding all of those additional covariates increased the R-squared from 0.0671 to 0.1096. This means the model was originally explained about 6.7% of the variation in $Y$ but the additional covariates allow it explain 11% of the variation.\n",
        "\n",
        "The standard error on the estimate of the treatment effect fell from 0.009153 to 0.008946, a drop of about 2.3 percent. Standard errors are proportional to the unexplained variation in the data (loosely speaking), so we expect the standard errors to fall as the R-squared increases.\n",
        "\n",
        "I also tried removing covariates from the model giving us the model \"Only country controls\". However, this had very little effect on the results because covariates removed had minimal explanatory power. The R-squared only fell slightly to 0.0668. "
      ]
    },
    {
      "cell_type": "markdown",
      "metadata": {
        "id": "xRIKJaRHoIV6",
        "colab_type": "text"
      },
      "source": [
        "# Classic blocking example: Shoe technology experiment\n",
        "\n",
        "This is a classic example of the most extreme case of blocking: a paired experiment.\n",
        "\n",
        "The story is that Nike is testing a new compound for the soles of shoes that is supposed to reduce wear (with no negative effects on traction!). The engineers are doing an experiment to estimate the performance of the new compound. The outcome of interest $Y$ is a normally distributed \"wear\" measurement taken on the shoes after 1 month.\n",
        "\n",
        "This simulation demonstrates two ways of conducting the experiment. There are $N=100$ people available for the experiment, each with 2 feet. So there are 200 shoes in the experiment.\n",
        "\n",
        "- A completely randomized design: Half of the shoes will have the new technology and half will not. The randomization is complete so it is possible for there to be more treated left shoes than right shoes or the reverse.\n",
        "\n",
        "- A paired (blocked) design: Each person receives one treated shoe and one control shoe.\n",
        "\n",
        "In the paired design each person effectively serves as their own control group! This is important when there is high *heterogeneity* between the people. Some people may be stronger, heavier, or more active which increases the wear on the shoe. We model this by a \"wear rate\" $r$ in the simulation. In the un-paired design it is possible by chance to end up with a treatment/control split that happens to randomly put more high $r$ people in one group. This tends to increase the variability in the estimate of the ATE. In the paired design we always have a perfect balance of $r$ across the treatment and control groups because each person is  in both groups. This reduces the extraneous variability which is effectively just noise added to our estimate of the ATE.\n"
      ]
    },
    {
      "cell_type": "code",
      "metadata": {
        "id": "gmO_nTWDd67J",
        "colab_type": "code",
        "colab": {}
      },
      "source": [
        "def gen_shoe_data(N, block=False, person_variability=5):\n",
        "\n",
        "  # Make N people each with their own randomly wear rate in [0, person_variability].\n",
        "  people = np.arange(0, N)\n",
        "  r_person = np.random.uniform(0, person_variability, size=N)\n",
        "  \n",
        "  # Make left and right feet\n",
        "  df_left = pd.DataFrame({'i': people})\n",
        "  df_left['left_foot'] = 1\n",
        "  df_right = pd.DataFrame({'i': people})\n",
        "  df_right['left_foot'] = 0 \n",
        "  df = pd.concat([df_left, df_right], axis=0)\n",
        "  df['shoe'] = np.arange(0, df.shape[0])\n",
        "  \n",
        "  # Each of the person's feet will have the same Y0 (success probability)\n",
        "  df['r_y0'] = r_person[df['i']]\n",
        "  \n",
        "  # Treatment reduces wear rate by 0.20\n",
        "  ATE = -0.20\n",
        "  # Y outcomes are measures of shoe wear\n",
        "  Y0 = np.random.normal(loc=df['r_y0'])\n",
        "  Y1 = np.random.normal(loc=df['r_y0'] + ATE)\n",
        "  df['y0'] = Y0\n",
        "  df['y1'] = Y1\n",
        "  \n",
        "  P_treatment = 0.5\n",
        "  if block == False:\n",
        "    treatment_shoes = np.random.choice(df['shoe'], int(len(df['shoe']) * P_treatment), replace=False)\n",
        "    df['d'] = df['shoe'].isin(treatment_shoes).astype('float')\n",
        "  else:\n",
        "    # Treat left foot only\n",
        "    # In real life we would treat a random foot.\n",
        "    # Wouldn't do this in real life but it doesn't matter for the simulation.\n",
        "    df['d'] = df['left_foot']\n",
        "         \n",
        "  df['y'] = df.eval(\"y1 * d + y0 * (1 - d)\")\n",
        "  del df['y0']\n",
        "  del df['y1']\n",
        "  return df\n",
        "\n",
        "def estimate_ate(df):\n",
        "  means = df.groupby('d')['y'].mean()\n",
        "  return {'estimated_ate': means[1] - means[0]}\n",
        "\n",
        "\n",
        "def regression_ate(df, formula=\"y ~ d + r_y0\"):\n",
        "  r = sfa.ols(formula, df).fit()\n",
        "  return {\n",
        "      'estimated_ate': r.params['d'],\n",
        "      'estimated_ate_se': r.bse['d']\n",
        "  }"
      ],
      "execution_count": 0,
      "outputs": []
    },
    {
      "cell_type": "code",
      "metadata": {
        "id": "uDqsLjsoiDnU",
        "colab_type": "code",
        "outputId": "556c0c32-2ab8-48ab-e078-c23b1bf71ff3",
        "colab": {
          "base_uri": "https://localhost:8080/",
          "height": 370
        }
      },
      "source": [
        "# Generate simulated data sets without blocking and with blocking\n",
        "B = 500\n",
        "inter_person_variability = 5\n",
        "# Generate simulated data sets without blocking and with blocking\n",
        "noblock = [gen_shoe_data(100, False, inter_person_variability) \n",
        "      for _ in progressbar(np.arange(0, B))]\n",
        "block = [gen_shoe_data(100, True, inter_person_variability) for _ in progressbar(np.arange(0, B))]\n",
        "# Estimate the ATE of each data set\n",
        "m_noblock = pd.DataFrame([estimate_ate(d) for d in progressbar(noblock)])\n",
        "m_block = pd.DataFrame([estimate_ate(d) for d in progressbar(block)])\n",
        "# Show results\n",
        "results = pd.concat([\n",
        "    m_noblock['estimated_ate'].describe(),\n",
        "    m_block['estimated_ate'].describe()\n",
        "], axis=1)\n",
        "results.columns = ['noblock', 'block']\n",
        "results"
      ],
      "execution_count": 0,
      "outputs": [
        {
          "output_type": "stream",
          "text": [
            "100% (500 of 500) |######################| Elapsed Time: 0:00:04 Time:  0:00:04\n",
            "100% (500 of 500) |######################| Elapsed Time: 0:00:04 Time:  0:00:04\n",
            "100% (500 of 500) |######################| Elapsed Time: 0:00:00 Time:  0:00:00\n",
            "100% (500 of 500) |######################| Elapsed Time: 0:00:00 Time:  0:00:00\n"
          ],
          "name": "stderr"
        },
        {
          "output_type": "execute_result",
          "data": {
            "text/html": [
              "<div>\n",
              "<style scoped>\n",
              "    .dataframe tbody tr th:only-of-type {\n",
              "        vertical-align: middle;\n",
              "    }\n",
              "\n",
              "    .dataframe tbody tr th {\n",
              "        vertical-align: top;\n",
              "    }\n",
              "\n",
              "    .dataframe thead th {\n",
              "        text-align: right;\n",
              "    }\n",
              "</style>\n",
              "<table border=\"1\" class=\"dataframe\">\n",
              "  <thead>\n",
              "    <tr style=\"text-align: right;\">\n",
              "      <th></th>\n",
              "      <th>noblock</th>\n",
              "      <th>block</th>\n",
              "    </tr>\n",
              "  </thead>\n",
              "  <tbody>\n",
              "    <tr>\n",
              "      <th>count</th>\n",
              "      <td>500.000000</td>\n",
              "      <td>500.000000</td>\n",
              "    </tr>\n",
              "    <tr>\n",
              "      <th>mean</th>\n",
              "      <td>-0.209683</td>\n",
              "      <td>-0.201662</td>\n",
              "    </tr>\n",
              "    <tr>\n",
              "      <th>std</th>\n",
              "      <td>0.241821</td>\n",
              "      <td>0.136555</td>\n",
              "    </tr>\n",
              "    <tr>\n",
              "      <th>min</th>\n",
              "      <td>-0.862596</td>\n",
              "      <td>-0.584795</td>\n",
              "    </tr>\n",
              "    <tr>\n",
              "      <th>25%</th>\n",
              "      <td>-0.363962</td>\n",
              "      <td>-0.291297</td>\n",
              "    </tr>\n",
              "    <tr>\n",
              "      <th>50%</th>\n",
              "      <td>-0.214061</td>\n",
              "      <td>-0.209528</td>\n",
              "    </tr>\n",
              "    <tr>\n",
              "      <th>75%</th>\n",
              "      <td>-0.068306</td>\n",
              "      <td>-0.111478</td>\n",
              "    </tr>\n",
              "    <tr>\n",
              "      <th>max</th>\n",
              "      <td>0.652038</td>\n",
              "      <td>0.200380</td>\n",
              "    </tr>\n",
              "  </tbody>\n",
              "</table>\n",
              "</div>"
            ],
            "text/plain": [
              "          noblock       block\n",
              "count  500.000000  500.000000\n",
              "mean    -0.209683   -0.201662\n",
              "std      0.241821    0.136555\n",
              "min     -0.862596   -0.584795\n",
              "25%     -0.363962   -0.291297\n",
              "50%     -0.214061   -0.209528\n",
              "75%     -0.068306   -0.111478\n",
              "max      0.652038    0.200380"
            ]
          },
          "metadata": {
            "tags": []
          },
          "execution_count": 20
        }
      ]
    },
    {
      "cell_type": "code",
      "metadata": {
        "id": "vFAwtTYIYp8D",
        "colab_type": "code",
        "outputId": "a25d5586-3409-4a63-fbb4-49f67bfbdaff",
        "colab": {
          "base_uri": "https://localhost:8080/",
          "height": 335
        }
      },
      "source": [
        "ax = m_noblock['estimated_ate'].hist(bins=20, density=True)\n",
        "ax.set_xlim(-0.8, 0.8)\n",
        "ax.set_xlabel(\"Estimated ATE\", fontsize=18)\n",
        "ax.set_title(\"Sampling distribution of estimated ATE\\n(non-blocking experiment)\", color='white')\n",
        "#m_block['estimated_ate'].describe()"
      ],
      "execution_count": 0,
      "outputs": [
        {
          "output_type": "execute_result",
          "data": {
            "text/plain": [
              "Text(0.5, 1.0, 'Sampling distribution of estimated ATE\\n(non-blocking experiment)')"
            ]
          },
          "metadata": {
            "tags": []
          },
          "execution_count": 29
        },
        {
          "output_type": "display_data",
          "data": {
            "image/png": "[encoded data removed]",
            "text/plain": [
              "<Figure size 432x288 with 1 Axes>"
            ]
          },
          "metadata": {
            "tags": []
          }
        }
      ]
    },
    {
      "cell_type": "code",
      "metadata": {
        "id": "tS_i6S77keYE",
        "colab_type": "code",
        "outputId": "ac1bdbcd-f652-4f9e-d6ba-b336a15b95a4",
        "colab": {
          "base_uri": "https://localhost:8080/",
          "height": 335
        }
      },
      "source": [
        "ax = m_block['estimated_ate'].hist(bins=20, density=True)\n",
        "ax.set_xlim(-0.8, 0.8)\n",
        "ax.set_xlabel(\"Estimated ATE\", fontsize=18)\n",
        "ax.set_title(\"Sampling distribution of estimated ATE\\n(blocking experiment)\", color='white')\n",
        "#m_block['estimated_ate'].describe()"
      ],
      "execution_count": 0,
      "outputs": [
        {
          "output_type": "execute_result",
          "data": {
            "text/plain": [
              "Text(0.5, 1.0, 'Sampling distribution of estimated ATE\\n(blocking experiment)')"
            ]
          },
          "metadata": {
            "tags": []
          },
          "execution_count": 30
        },
        {
          "output_type": "display_data",
          "data": {
            "image/png": "[encoded data removed]",
            "text/plain": [
              "<Figure size 432x288 with 1 Axes>"
            ]
          },
          "metadata": {
            "tags": []
          }
        }
      ]
    },
    {
      "cell_type": "code",
      "metadata": {
        "id": "uhJd-n-sxZ6o",
        "colab_type": "code",
        "outputId": "f683e3de-b7bb-4a65-dc41-08222dafe634",
        "colab": {
          "base_uri": "https://localhost:8080/",
          "height": 469
        }
      },
      "source": [
        "print(sfa.ols(\"y ~ d + r_y0\", block[0]).fit().summary())"
      ],
      "execution_count": 0,
      "outputs": [
        {
          "output_type": "stream",
          "text": [
            "                            OLS Regression Results                            \n",
            "==============================================================================\n",
            "Dep. Variable:                      y   R-squared:                       0.715\n",
            "Model:                            OLS   Adj. R-squared:                  0.713\n",
            "Method:                 Least Squares   F-statistic:                     247.6\n",
            "Date:                Mon, 09 Sep 2019   Prob (F-statistic):           1.73e-54\n",
            "Time:                        07:10:27   Log-Likelihood:                -264.00\n",
            "No. Observations:                 200   AIC:                             534.0\n",
            "Df Residuals:                     197   BIC:                             543.9\n",
            "Df Model:                           2                                         \n",
            "Covariance Type:            nonrobust                                         \n",
            "==============================================================================\n",
            "                 coef    std err          t      P>|t|      [0.025      0.975]\n",
            "------------------------------------------------------------------------------\n",
            "Intercept      0.2758      0.141      1.956      0.052      -0.002       0.554\n",
            "d             -0.3752      0.129     -2.907      0.004      -0.630      -0.121\n",
            "r_y0           0.9397      0.043     22.064      0.000       0.856       1.024\n",
            "==============================================================================\n",
            "Omnibus:                        0.187   Durbin-Watson:                   1.986\n",
            "Prob(Omnibus):                  0.911   Jarque-Bera (JB):                0.152\n",
            "Skew:                          -0.066   Prob(JB):                        0.927\n",
            "Kurtosis:                       2.977   Cond. No.                         7.94\n",
            "==============================================================================\n",
            "\n",
            "Warnings:\n",
            "[1] Standard Errors assume that the covariance matrix of the errors is correctly specified.\n"
          ],
          "name": "stdout"
        }
      ]
    },
    {
      "cell_type": "code",
      "metadata": {
        "id": "vYAgHpgnzjYL",
        "colab_type": "code",
        "outputId": "31b60b9f-35bb-4ac4-c652-7fa13d272ce5",
        "colab": {
          "base_uri": "https://localhost:8080/",
          "height": 451
        }
      },
      "source": [
        "print(sfa.ols(\"r_y0 ~ d\", noblock[1]).fit().summary())"
      ],
      "execution_count": 0,
      "outputs": [
        {
          "output_type": "stream",
          "text": [
            "                            OLS Regression Results                            \n",
            "==============================================================================\n",
            "Dep. Variable:                   r_y0   R-squared:                       0.011\n",
            "Model:                            OLS   Adj. R-squared:                  0.006\n",
            "Method:                 Least Squares   F-statistic:                     2.112\n",
            "Date:                Mon, 09 Sep 2019   Prob (F-statistic):              0.148\n",
            "Time:                        07:10:46   Log-Likelihood:                -364.74\n",
            "No. Observations:                 200   AIC:                             733.5\n",
            "Df Residuals:                     198   BIC:                             740.1\n",
            "Df Model:                           1                                         \n",
            "Covariance Type:            nonrobust                                         \n",
            "==============================================================================\n",
            "                 coef    std err          t      P>|t|      [0.025      0.975]\n",
            "------------------------------------------------------------------------------\n",
            "Intercept      2.7214      0.151     18.065      0.000       2.424       3.019\n",
            "d             -0.3096      0.213     -1.453      0.148      -0.730       0.111\n",
            "==============================================================================\n",
            "Omnibus:                      194.677   Durbin-Watson:                   1.941\n",
            "Prob(Omnibus):                  0.000   Jarque-Bera (JB):               14.428\n",
            "Skew:                           0.028   Prob(JB):                     0.000736\n",
            "Kurtosis:                       1.685   Cond. No.                         2.62\n",
            "==============================================================================\n",
            "\n",
            "Warnings:\n",
            "[1] Standard Errors assume that the covariance matrix of the errors is correctly specified.\n"
          ],
          "name": "stdout"
        }
      ]
    },
    {
      "cell_type": "code",
      "metadata": {
        "id": "cevsiiQ507yL",
        "colab_type": "code",
        "outputId": "87229ada-2b4b-4f53-bed2-71e38b276097",
        "colab": {
          "base_uri": "https://localhost:8080/",
          "height": 225
        }
      },
      "source": [
        "noblock[1].groupby('i')['r_y0'].std()"
      ],
      "execution_count": 0,
      "outputs": [
        {
          "output_type": "execute_result",
          "data": {
            "text/plain": [
              "i\n",
              "0    0.0\n",
              "1    0.0\n",
              "2    0.0\n",
              "3    0.0\n",
              "4    0.0\n",
              "5    0.0\n",
              "6    0.0\n",
              "7    0.0\n",
              "8    0.0\n",
              "9    0.0\n",
              "Name: r_y0, dtype: float64"
            ]
          },
          "metadata": {
            "tags": []
          },
          "execution_count": 64
        }
      ]
    },
    {
      "cell_type": "code",
      "metadata": {
        "id": "NKItr0wM2Eka",
        "colab_type": "code",
        "outputId": "081b123b-1221-4795-8d84-41002ab324f7",
        "colab": {
          "base_uri": "https://localhost:8080/",
          "height": 34
        }
      },
      "source": [
        "\n",
        "def gen_shoe_data_x(N, block=False, person_variability=5):\n",
        "\n",
        "  # Make N people each with their own randomly wear rate in [0, person_variability].\n",
        "  people = np.arange(0, N)\n",
        "  r_person = np.random.uniform(0, person_variability, size=N)\n",
        "  \n",
        "  # Make left and right feet\n",
        "  df_left = pd.DataFrame({'i': people})\n",
        "  df_left['left_foot'] = 1\n",
        "  df_right = pd.DataFrame({'i': people})\n",
        "  df_right['left_foot'] = 0 \n",
        "  df = pd.concat([df_left, df_right]*5, axis=0)\n",
        "  df['shoe'] = np.arange(0, df.shape[0])\n",
        "  \n",
        "  # Each of the person's feet will have the same Y0 (success probability)\n",
        "  df['r_y0'] = r_person[df['i']]\n",
        "  \n",
        "  # Treatment reduces wear rate by 0.20\n",
        "  ATE = -0.20\n",
        "  # Y outcomes are measures of shoe wear\n",
        "  Y0 = np.random.normal(loc=df['r_y0'])\n",
        "  Y1 = np.random.normal(loc=df['r_y0'] + ATE)\n",
        "  df['y0'] = Y0\n",
        "  df['y1'] = Y1\n",
        "  \n",
        "  P_treatment = 0.5\n",
        "  if block == False:\n",
        "    treatment_shoes = np.random.choice(df['shoe'], int(len(df['shoe']) * P_treatment), replace=False)\n",
        "    df['d'] = df['shoe'].isin(treatment_shoes).astype('float')\n",
        "  else:\n",
        "    # Treat left foot only\n",
        "    # In real life we would treat a random foot.\n",
        "    # Wouldn't do this in real life but it doesn't matter for the simulation.\n",
        "    df['d'] = df['left_foot']\n",
        "         \n",
        "  df['y'] = df.eval(\"y1 * d + y0 * (1 - d)\")\n",
        "  del df['y0']\n",
        "  del df['y1']\n",
        "  return df\n",
        "\n",
        "def estimate_ate(df):\n",
        "  means = df.groupby('d')['y'].mean()\n",
        "  return {'estimated_ate': means[1] - means[0]}\n",
        "\n",
        "\n",
        "def regression_ate(df, formula=\"y ~ d + r_y0\"):\n",
        "  r = sfa.ols(formula, df).fit()\n",
        "  return {\n",
        "      'estimated_ate': r.params['d'],\n",
        "      'estimated_ate_se': r.bse['d']\n",
        "  }\n",
        "\n",
        "noblock = [gen_shoe_data_x(20, False, 20) for _ in progressbar(np.arange(0, B))]\n",
        "#\n"
      ],
      "execution_count": 0,
      "outputs": [
        {
          "output_type": "stream",
          "text": [
            "100% (500 of 500) |######################| Elapsed Time: 0:00:05 Time:  0:00:05\n"
          ],
          "name": "stderr"
        }
      ]
    },
    {
      "cell_type": "code",
      "metadata": {
        "id": "tQb0DL0-6LDt",
        "colab_type": "code",
        "outputId": "7df95108-b87f-4ea4-cd7a-8d77174f2fce",
        "colab": {
          "base_uri": "https://localhost:8080/",
          "height": 318
        }
      },
      "source": [
        "m_noblock = pd.DataFrame([regression_ate(d, \"y~d+C(i)\") for d in progressbar(noblock)])\n",
        "m_noblock.describe()"
      ],
      "execution_count": 0,
      "outputs": [
        {
          "output_type": "stream",
          "text": [
            "100% (500 of 500) |######################| Elapsed Time: 0:00:07 Time:  0:00:07\n"
          ],
          "name": "stderr"
        },
        {
          "output_type": "execute_result",
          "data": {
            "text/html": [
              "<div>\n",
              "<style scoped>\n",
              "    .dataframe tbody tr th:only-of-type {\n",
              "        vertical-align: middle;\n",
              "    }\n",
              "\n",
              "    .dataframe tbody tr th {\n",
              "        vertical-align: top;\n",
              "    }\n",
              "\n",
              "    .dataframe thead th {\n",
              "        text-align: right;\n",
              "    }\n",
              "</style>\n",
              "<table border=\"1\" class=\"dataframe\">\n",
              "  <thead>\n",
              "    <tr style=\"text-align: right;\">\n",
              "      <th></th>\n",
              "      <th>estimated_ate</th>\n",
              "      <th>estimated_ate_se</th>\n",
              "    </tr>\n",
              "  </thead>\n",
              "  <tbody>\n",
              "    <tr>\n",
              "      <th>count</th>\n",
              "      <td>500.000000</td>\n",
              "      <td>500.000000</td>\n",
              "    </tr>\n",
              "    <tr>\n",
              "      <th>mean</th>\n",
              "      <td>-0.199466</td>\n",
              "      <td>0.148814</td>\n",
              "    </tr>\n",
              "    <tr>\n",
              "      <th>std</th>\n",
              "      <td>0.144135</td>\n",
              "      <td>0.008321</td>\n",
              "    </tr>\n",
              "    <tr>\n",
              "      <th>min</th>\n",
              "      <td>-0.605934</td>\n",
              "      <td>0.128990</td>\n",
              "    </tr>\n",
              "    <tr>\n",
              "      <th>25%</th>\n",
              "      <td>-0.289438</td>\n",
              "      <td>0.143400</td>\n",
              "    </tr>\n",
              "    <tr>\n",
              "      <th>50%</th>\n",
              "      <td>-0.203795</td>\n",
              "      <td>0.148517</td>\n",
              "    </tr>\n",
              "    <tr>\n",
              "      <th>75%</th>\n",
              "      <td>-0.105220</td>\n",
              "      <td>0.154278</td>\n",
              "    </tr>\n",
              "    <tr>\n",
              "      <th>max</th>\n",
              "      <td>0.228152</td>\n",
              "      <td>0.175019</td>\n",
              "    </tr>\n",
              "  </tbody>\n",
              "</table>\n",
              "</div>"
            ],
            "text/plain": [
              "       estimated_ate  estimated_ate_se\n",
              "count     500.000000        500.000000\n",
              "mean       -0.199466          0.148814\n",
              "std         0.144135          0.008321\n",
              "min        -0.605934          0.128990\n",
              "25%        -0.289438          0.143400\n",
              "50%        -0.203795          0.148517\n",
              "75%        -0.105220          0.154278\n",
              "max         0.228152          0.175019"
            ]
          },
          "metadata": {
            "tags": []
          },
          "execution_count": 96
        }
      ]
    },
    {
      "cell_type": "code",
      "metadata": {
        "id": "BwYoJ-gV6ooo",
        "colab_type": "code",
        "outputId": "73d054c4-9f86-4e73-d0cb-48867ac59eff",
        "colab": {
          "base_uri": "https://localhost:8080/",
          "height": 286
        }
      },
      "source": [
        "m_noblock['estimated_ate'].hist()"
      ],
      "execution_count": 0,
      "outputs": [
        {
          "output_type": "execute_result",
          "data": {
            "text/plain": [
              "<matplotlib.axes._subplots.AxesSubplot at 0x7f1fc0651630>"
            ]
          },
          "metadata": {
            "tags": []
          },
          "execution_count": 92
        },
        {
          "output_type": "display_data",
          "data": {
            "image/png": "[encoded data removed]",
            "text/plain": [
              "<Figure size 432x288 with 1 Axes>"
            ]
          },
          "metadata": {
            "tags": []
          }
        }
      ]
    },
    {
      "cell_type": "code",
      "metadata": {
        "id": "f7yzWBdS6u0B",
        "colab_type": "code",
        "colab": {}
      },
      "source": [
        ""
      ],
      "execution_count": 0,
      "outputs": []
    }
  ]
}